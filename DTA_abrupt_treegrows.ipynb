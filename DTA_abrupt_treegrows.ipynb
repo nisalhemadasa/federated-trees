{
 "cells": [
  {
   "cell_type": "code",
   "execution_count": 1,
   "id": "7f3788c6-4c85-470c-89de-7c7d6055036c",
   "metadata": {},
   "outputs": [],
   "source": [
    "from logs.analysis_functions import plot_average_performance\n",
    "from logs.logging import read_logs\n",
    "import numpy as np"
   ]
  },
  {
   "cell_type": "markdown",
   "id": "445d3116-7f4c-4af7-927e-2a5bde7cf86c",
   "metadata": {},
   "source": [
    "### Generate a figure instance"
   ]
  },
  {
   "cell_type": "code",
   "execution_count": 4,
   "id": "baa22687-033f-434b-b0cc-2360101a9d4e",
   "metadata": {},
   "outputs": [
    {
     "data": {
      "text/plain": [
       "<Figure size 640x480 with 0 Axes>"
      ]
     },
     "execution_count": 4,
     "metadata": {},
     "output_type": "execute_result"
    }
   ],
   "source": [
    "import matplotlib.pyplot as plt\n",
    "\n",
    "plt.figure()  # Create a new figure for loss"
   ]
  },
  {
   "cell_type": "markdown",
   "id": "79f4ef60-8599-410c-9668-305654fe7cd3",
   "metadata": {},
   "source": [
    "### Read files\n",
    "##### Client | Accuracies | DTA (download from leaves) | for increasing tree size | abrupt"
   ]
  },
  {
   "cell_type": "code",
   "execution_count": null,
   "id": "ca439ac6-d800-4b7e-8cf3-6439d5b8e809",
   "metadata": {},
   "outputs": [],
   "source": [
    "# {1}\n",
    "# drifted_client = read_logs('logs//saved_logs//paper//1//2_with_drift_abrupt//drifted_client_log.pkl')\n",
    "# drifted_client_avg = read_logs('logs//saved_logs//paper//1//2_with_drift_abrupt//drifted_client_avg_log.pkl')\n",
    "# non_drifted_client = read_logs('logs//saved_logs//paper//1//2_with_drift_abrupt//non_drifted_client_log.pkl')\n",
    "# non_drifted_client_avg = read_logs('logs//saved_logs//paper//1//2_with_drift_abrupt//non_drifted_client_avg_log.pkl')\n",
    "# color =\"red\"\n",
    "# linestyle=\":\""
   ]
  },
  {
   "cell_type": "code",
   "execution_count": 10,
   "id": "339e5f93-5afb-4b50-b6ee-3c0aae0e420f",
   "metadata": {},
   "outputs": [],
   "source": [
    "# # {1_2}\n",
    "# drifted_client = read_logs('logs//saved_logs//paper//1_2//14_abrupt_DTA14_abrupt_DTA14_abrupt_DTA14_abrupt_DTA//drifted_client_log.pkl')\n",
    "# drifted_client_avg = read_logs('logs//saved_logs//paper//1_2//14_abrupt_DTA14_abrupt_DTA14_abrupt_DTA//drifted_client_avg_log.pkl')\n",
    "# non_drifted_client = read_logs('logs//saved_logs//paper//1_2//14_abrupt_DTA14_abrupt_DTA//non_drifted_client_log.pkl')\n",
    "# non_drifted_client_avg = read_logs('logs//saved_logs//paper//1_2//14_abrupt_DTA//non_drifted_client_avg_log.pkl')\n",
    "# color =\"blue\"\n",
    "# linestyle=\"--\""
   ]
  },
  {
   "cell_type": "code",
   "execution_count": null,
   "id": "397f0d09-987d-437f-b267-1f6803207401",
   "metadata": {},
   "outputs": [],
   "source": [
    "# #{1_2_4}\n",
    "# drifted_client = read_logs('logs//saved_logs//paper//1_2_4//22_abrupt_DTA22_abrupt_DTA22_abrupt_DTA22_abrupt_DTA//drifted_client_log.pkl')\n",
    "# drifted_client_avg = read_logs('logs//saved_logs//paper//1_2_4//22_abrupt_DTA22_abrupt_DTA22_abrupt_DTA//drifted_client_avg_log.pkl')\n",
    "# non_drifted_client = read_logs('logs//saved_logs//paper//1_2_4//22_abrupt_DTA22_abrupt_DTA//non_drifted_client_log.pkl')\n",
    "# non_drifted_client_avg = read_logs('logs//saved_logs//paper//1_2_4//22_abrupt_DTA//non_drifted_client_avg_log.pkl')\n",
    "# color =\"green\"\n",
    "# linestyle=\"-.\""
   ]
  },
  {
   "cell_type": "code",
   "execution_count": null,
   "id": "bc226a1e-4f94-4345-a749-14a79998eac7",
   "metadata": {},
   "outputs": [],
   "source": [
    "#{1_2_4_8}\n",
    "drifted_client = read_logs('logs//saved_logs//paper//1_2_4_8//30_abrupt_DTA30_abrupt_DTA30_abrupt_DTA30_abrupt_DTA//drifted_client_log.pkl')\n",
    "drifted_client_avg = read_logs('logs//saved_logs//paper//1_2_4_8//30_abrupt_DTA30_abrupt_DTA30_abrupt_DTA//drifted_client_avg_log.pkl')\n",
    "non_drifted_client = read_logs('logs//saved_logs//paper//1_2_4_8//30_abrupt_DTA30_abrupt_DTA//non_drifted_client_log.pkl')\n",
    "non_drifted_client_avg = read_logs('logs//saved_logs//paper//1_2_4_8//30_abrupt_DTA//non_drifted_client_avg_log.pkl')\n",
    "color =\"grey\"\n",
    "linestyle=\"-\""
   ]
  },
  {
   "cell_type": "markdown",
   "id": "218a7c05-d644-4490-b772-742a244ebc0a",
   "metadata": {},
   "source": [
    "### Plot the figure with graphs"
   ]
  },
  {
   "cell_type": "code",
   "execution_count": 11,
   "id": "02991f3b-c795-4b29-8659-4f45836082e4",
   "metadata": {},
   "outputs": [
    {
     "data": {
      "text/plain": [
       "[<matplotlib.lines.Line2D at 0x1c840aa4700>]"
      ]
     },
     "execution_count": 11,
     "metadata": {},
     "output_type": "execute_result"
    }
   ],
   "source": [
    "import numpy as np\n",
    "\n",
    "####################################\n",
    "# ACCURACY\n",
    "####################################\n",
    "#------------\n",
    "# DRIFTED\n",
    "#------------\n",
    "# List to store the accuracy values of all clients across all rounds\n",
    "drifted_client_accuracies = []\n",
    "non_drifted_client_accuracies = []\n",
    "\n",
    "# Indicate the indices of the accuracy value and accuracy value in the tuple\n",
    "ACCURACY_INDEX = 1\n",
    "\n",
    "# Get the total number of clients to iterate\n",
    "num_clients = len(drifted_client[0])\n",
    "\n",
    "# Collect accuracies for each client across all rounds. Note: Here client_id = index of the client in the list\n",
    "for client_id in range(num_clients):\n",
    "    client_accuracies = []\n",
    "    for round_index in range(len(drifted_client)):\n",
    "        client_accuracies.append(drifted_client[round_index][client_id][ACCURACY_INDEX])\n",
    "    drifted_client_accuracies.append(client_accuracies)\n",
    "    \n",
    "# # Plot the accuracy of each client against the number of rounds\n",
    "# plt.figure()  # Create a new figure for accuracy\n",
    "\n",
    "# Transpose to get accuracies for all clients at each round\n",
    "drifted_client_accuracies_transposed = np.array(drifted_client_accuracies).T\n",
    "\n",
    "# Calculate the minimum and maximum accuracies across clients for each round\n",
    "acc_min = drifted_client_accuracies_transposed.min(axis=1)\n",
    "acc_max = drifted_client_accuracies_transposed.max(axis=1)\n",
    "\n",
    "# # Fill the area between the minimum and maximum acc values\n",
    "# plt.fill_between(\n",
    "#     range(len(acc_min)),\n",
    "#     acc_min,\n",
    "#     acc_max,\n",
    "#     color=color,\n",
    "#     alpha=0.2,\n",
    "#     label=\"Accuracy Range (Drifted Clients)\",\n",
    "# )\n",
    "\n",
    "#------------\n",
    "# NON-DRIFTED\n",
    "#------------\n",
    "# List to store the accuracy values of all clients across all rounds\n",
    "non_drifted_client_accuracies = []\n",
    "\n",
    "# Get the total number of clients to iterate\n",
    "num_clients = len(non_drifted_client[0])\n",
    "\n",
    "for client_id in range(num_clients):\n",
    "    client_accuracies = []\n",
    "    for round_index in range(len(non_drifted_client)):\n",
    "        client_accuracies.append(non_drifted_client[round_index][client_id][ACCURACY_INDEX])\n",
    "    non_drifted_client_accuracies.append(client_accuracies)\n",
    "\n",
    "# Transpose to get accuracies for all clients at each round\n",
    "non_drifted_client_accuracies_transposed = np.array(non_drifted_client_accuracies).T\n",
    "\n",
    "# Calculate the minimum and maximum accuracies across clients for each round\n",
    "acc_min = non_drifted_client_accuracies_transposed.min(axis=1)\n",
    "acc_max = non_drifted_client_accuracies_transposed.max(axis=1)\n",
    "\n",
    "# # Fill the area between the minimum and maximum accuracy values\n",
    "# plt.fill_between(\n",
    "#     range(len(acc_min)),\n",
    "#     acc_min,\n",
    "#     acc_max,\n",
    "#     color=color,\n",
    "#     alpha=0.2,\n",
    "#     label=\"Accuracy Range (Non-drifted Clients)\",\n",
    "# )\n",
    "\n",
    "# Extract the accuracy values from the list of tuples\n",
    "drifted_client_avg_accuracies = [x[0] for x in drifted_client_avg]\n",
    "non_drifted_client_avg_accuracies = [x[0] for x in non_drifted_client_avg]\n",
    "\n",
    "# Plot the average accuracy of the clients against the number of rounds\n",
    "plt.plot(drifted_client_avg_accuracies, label='Average Drifted Client Accuracy', linestyle=linestyle, color=color )\n",
    "plt.plot(non_drifted_client_avg_accuracies, label='Average Non-drifted Client Accuracy', linestyle=linestyle, color=color)\n",
    "\n",
    "# plt.show()\n",
    "# y_label = 'Avg. Accuracy'\n",
    "# file_name = 'avg_cl_accuracy_with_std_dev_vs_rounds'"
   ]
  },
  {
   "cell_type": "markdown",
   "id": "61cf14b2-450d-4f48-99d5-30952a16d743",
   "metadata": {},
   "source": [
    "### Save plots"
   ]
  },
  {
   "cell_type": "code",
   "execution_count": 12,
   "id": "84400072-5f60-4b3a-8c97-d4166a48b820",
   "metadata": {},
   "outputs": [],
   "source": [
    "from plots.plotting import configure_and_save_plot\n",
    "import constants"
   ]
  },
  {
   "cell_type": "code",
   "execution_count": 13,
   "id": "11bcbbf7-3105-4552-9609-e07801dcde76",
   "metadata": {},
   "outputs": [],
   "source": [
    "y_label = 'Avg. Accuracy'\n",
    "file_name = 'downloadfromroot_treegrows_serveradapt'\n",
    "x_label = 'Rounds'\n",
    "configure_and_save_plot(plt, x_label, y_label,_,constants.Paths.PLOT_SAVE_PATH + file_name)"
   ]
  },
  {
   "cell_type": "code",
   "execution_count": null,
   "id": "6a130d5b-84a1-4bbc-ba58-b809c4999fba",
   "metadata": {},
   "outputs": [],
   "source": []
  }
 ],
 "metadata": {
  "kernelspec": {
   "display_name": "Python 3 (ipykernel)",
   "language": "python",
   "name": "python3"
  },
  "language_info": {
   "codemirror_mode": {
    "name": "ipython",
    "version": 3
   },
   "file_extension": ".py",
   "mimetype": "text/x-python",
   "name": "python",
   "nbconvert_exporter": "python",
   "pygments_lexer": "ipython3",
   "version": "3.10.0"
  }
 },
 "nbformat": 4,
 "nbformat_minor": 5
}
