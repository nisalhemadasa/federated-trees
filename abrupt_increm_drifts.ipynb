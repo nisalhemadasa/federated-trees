{
 "cells": [
  {
   "cell_type": "code",
   "execution_count": 1,
   "id": "36492d34-7bc9-43b7-9e53-39290e93fd17",
   "metadata": {},
   "outputs": [],
   "source": [
    "from logs.analysis_functions import plot_average_performance\n",
    "from logs.logging import read_logs"
   ]
  },
  {
   "cell_type": "markdown",
   "id": "d04454b8-198f-45ab-88d5-8096db286697",
   "metadata": {},
   "source": [
    "### Read files"
   ]
  },
  {
   "cell_type": "code",
   "execution_count": 36,
   "id": "ab87be24-5d0f-47c0-aa8d-609e248bf06c",
   "metadata": {
    "jupyter": {
     "source_hidden": true
    }
   },
   "outputs": [],
   "source": [
    "server_adapt = read_logs('logs//saved_logs//paper//1_2_4//20_abrupt_serveradapt//drifted_client_log.pkl')\n",
    "server_adapt_avg = read_logs('logs//saved_logs//paper//1_2_4//20_abrupt_serveradapt//drifted_client_avg_log.pkl')\n",
    "client_adapt = read_logs('logs//saved_logs//paper//1_2_4//18_abrupt//drifted_client_log.pkl')\n",
    "client_adapt_avg = read_logs('logs//saved_logs//paper//1_2_4//18_abrupt//drifted_client_avg_log.pkl')"
   ]
  },
  {
   "cell_type": "code",
   "execution_count": 8,
   "id": "f8de3391-28aa-4e74-80c4-6fd43f71b98c",
   "metadata": {},
   "outputs": [],
   "source": [
    "# {1} accuracy and loss under sudden drift\n",
    "drifted_client = read_logs('logs//saved_logs//paper//1//2_with_drift_abrupt//drifted_client_log.pkl')\n",
    "drifted_client_avg = read_logs('logs//saved_logs//paper//1//2_with_drift_abrupt//drifted_client_avg_log.pkl')\n",
    "non_drifted_client = read_logs('logs//saved_logs//paper//1//2_with_drift_abrupt//non_drifted_client_log.pkl')\n",
    "non_drifted_client_avg = read_logs('logs//saved_logs//paper//1//2_with_drift_abrupt//non_drifted_client_avg_log.pkl')"
   ]
  },
  {
   "cell_type": "code",
   "execution_count": 18,
   "id": "ec04e8c6-1c4d-4221-9f4a-42e7785abf6c",
   "metadata": {},
   "outputs": [],
   "source": [
    "# {1} accuracy and loss under incremental drift\n",
    "drifted_client = read_logs('logs//saved_logs//paper//1//3_with_drift_gradual//drifted_client_log.pkl')\n",
    "drifted_client_avg = read_logs('logs//saved_logs//paper//1//3_with_drift_gradual//drifted_client_avg_log.pkl')\n",
    "non_drifted_client = read_logs('logs//saved_logs//paper//1//3_with_drift_gradual//non_drifted_client_log.pkl')\n",
    "non_drifted_client_avg = read_logs('logs//saved_logs//paper//1//3_with_drift_gradual//non_drifted_client_avg_log.pkl')"
   ]
  },
  {
   "cell_type": "code",
   "execution_count": 37,
   "id": "9659c50d-4af3-4ef4-844a-351166f3593c",
   "metadata": {},
   "outputs": [],
   "source": [
    "# # Client Accracies, download from the the root, for increasing tree size, abrupt\n",
    "# # {1}\n",
    "# drifted_client = read_logs('logs//saved_logs//paper//1//6_abrupt_downloadfromroot//drifted_client_log.pkl')\n",
    "# drifted_client_avg = read_logs('logs//saved_logs//paper//1//6_abrupt_downloadfromroot//drifted_client_avg_log.pkl')\n",
    "# non_drifted_client = read_logs('logs//saved_logs//paper//1//6_abrupt_downloadfromroot//non_drifted_client_log.pkl')\n",
    "# non_drifted_client_avg = read_logs('logs//saved_logs//paper//1//6_abrupt_downloadfromroot//non_drifted_client_avg_log.pkl')\n",
    "# color =\"red\"\n",
    "# linestyle=\":\"\n",
    "\n",
    "# {1_2}\n",
    "drifted_client = read_logs('logs//saved_logs//paper//1_2//43_abrupt_downloadfromroot//drifted_client_log.pkl')\n",
    "drifted_client_avg = read_logs('logs//saved_logs//paper//1_2//43_abrupt_downloadfromroot//drifted_client_avg_log.pkl')\n",
    "non_drifted_client = read_logs('logs//saved_logs//paper//1_2//43_abrupt_downloadfromroot//non_drifted_client_log.pkl')\n",
    "non_drifted_client_avg = read_logs('logs//saved_logs//paper//1_2//43_abrupt_downloadfromroot//non_drifted_client_avg_log.pkl')\n",
    "color =\"blue\"\n",
    "linestyle=\"--\"\n",
    "\n",
    "# #{1_2_4}\n",
    "# drifted_client = read_logs('logs//saved_logs//paper//1_2_4//45_abrupt_downloadfromroot//drifted_client_log.pkl')\n",
    "# drifted_client_avg = read_logs('logs//saved_logs//paper//1_2_4//45_abrupt_downloadfromroot//drifted_client_avg_log.pkl')\n",
    "# non_drifted_client = read_logs('logs//saved_logs//paper//1_2_4//45_abrupt_downloadfromroot//non_drifted_client_log.pkl')\n",
    "# non_drifted_client_avg = read_logs('logs//saved_logs//paper//1_2_4//45_abrupt_downloadfromroot//non_drifted_client_avg_log.pkl')\n",
    "# color =\"green\"\n",
    "# linestyle=\"-.\"\n",
    "\n",
    "# #{1_2_4_8}\n",
    "# drifted_client = read_logs('logs//saved_logs//paper//1_2_4_8//47_abrupt_downloadfromroot//drifted_client_log.pkl')\n",
    "# drifted_client_avg = read_logs('logs//saved_logs//paper//1_2_4_8//47_abrupt_downloadfromroot//drifted_client_avg_log.pkl')\n",
    "# non_drifted_client = read_logs('logs//saved_logs//paper//1_2_4_8//47_abrupt_downloadfromroot//non_drifted_client_log.pkl')\n",
    "# non_drifted_client_avg = read_logs('logs//saved_logs//paper//1_2_4_8//47_abrupt_downloadfromroot//non_drifted_client_avg_log.pkl')\n",
    "# color =\"silver\"\n",
    "# linestyle=\"-\"\n"
   ]
  },
  {
   "cell_type": "markdown",
   "id": "5e3137ad-d79a-4362-8d93-0b3afbc23379",
   "metadata": {},
   "source": [
    "### Generate Plots"
   ]
  },
  {
   "cell_type": "code",
   "execution_count": 35,
   "id": "319f4c02-88b6-4ebe-86a8-b95ab1140796",
   "metadata": {},
   "outputs": [
    {
     "data": {
      "text/plain": [
       "<Figure size 640x480 with 0 Axes>"
      ]
     },
     "execution_count": 35,
     "metadata": {},
     "output_type": "execute_result"
    }
   ],
   "source": [
    "    \n",
    "# Plot the loss of each client against the number of rounds\n",
    "plt.figure()  # Create a new figure for loss"
   ]
  },
  {
   "cell_type": "code",
   "execution_count": 38,
   "id": "40d9c7a2-d26d-4b92-bb8e-da965aab3def",
   "metadata": {},
   "outputs": [
    {
     "data": {
      "text/plain": [
       "[<matplotlib.lines.Line2D at 0x1e299d7bc40>]"
      ]
     },
     "execution_count": 38,
     "metadata": {},
     "output_type": "execute_result"
    }
   ],
   "source": [
    "import matplotlib.pyplot as plt\n",
    "import numpy as np\n",
    "\n",
    "####################################\n",
    "# ACCURACY\n",
    "####################################\n",
    "#------------\n",
    "# DRIFTED\n",
    "#------------\n",
    "# List to store the accuracy values of all clients across all rounds\n",
    "drifted_client_accuracies = []\n",
    "non_drifted_client_accuracies = []\n",
    "\n",
    "# Indicate the indices of the accuracy value and accuracy value in the tuple\n",
    "ACCURACY_INDEX = 1\n",
    "\n",
    "# Get the total number of clients to iterate\n",
    "num_clients = len(drifted_client[0])\n",
    "\n",
    "# Collect accuracies for each client across all rounds. Note: Here client_id = index of the client in the list\n",
    "for client_id in range(num_clients):\n",
    "    client_accuracies = []\n",
    "    for round_index in range(len(drifted_client)):\n",
    "        client_accuracies.append(drifted_client[round_index][client_id][ACCURACY_INDEX])\n",
    "    drifted_client_accuracies.append(client_accuracies)\n",
    "    \n",
    "# # Plot the accuracy of each client against the number of rounds\n",
    "# plt.figure()  # Create a new figure for accuracy\n",
    "\n",
    "# Transpose to get accuracies for all clients at each round\n",
    "drifted_client_accuracies_transposed = np.array(drifted_client_accuracies).T\n",
    "\n",
    "# Calculate the minimum and maximum accuracies across clients for each round\n",
    "acc_min = drifted_client_accuracies_transposed.min(axis=1)\n",
    "acc_max = drifted_client_accuracies_transposed.max(axis=1)\n",
    "\n",
    "# Fill the area between the minimum and maximum acc values\n",
    "plt.fill_between(\n",
    "    range(len(acc_min)),\n",
    "    acc_min,\n",
    "    acc_max,\n",
    "    color=\"orange\",\n",
    "    alpha=0.2,\n",
    "    label=\"Accuracy Range (Drifted Clients)\",\n",
    ")\n",
    "\n",
    "#------------\n",
    "# NON-DRIFTED\n",
    "#------------\n",
    "# List to store the accuracy values of all clients across all rounds\n",
    "non_drifted_client_accuracies = []\n",
    "\n",
    "# Get the total number of clients to iterate\n",
    "num_clients = len(non_drifted_client[0])\n",
    "\n",
    "for client_id in range(num_clients):\n",
    "    client_accuracies = []\n",
    "    for round_index in range(len(non_drifted_client)):\n",
    "        client_accuracies.append(non_drifted_client[round_index][client_id][ACCURACY_INDEX])\n",
    "    non_drifted_client_accuracies.append(client_accuracies)\n",
    "\n",
    "# Transpose to get accuracies for all clients at each round\n",
    "non_drifted_client_accuracies_transposed = np.array(non_drifted_client_accuracies).T\n",
    "\n",
    "# Calculate the minimum and maximum accuracies across clients for each round\n",
    "acc_min = non_drifted_client_accuracies_transposed.min(axis=1)\n",
    "acc_max = non_drifted_client_accuracies_transposed.max(axis=1)\n",
    "\n",
    "# Fill the area between the minimum and maximum accuracy values\n",
    "plt.fill_between(\n",
    "    range(len(acc_min)),\n",
    "    acc_min,\n",
    "    acc_max,\n",
    "    color=\"blue\",\n",
    "    alpha=0.2,\n",
    "    label=\"Accuracy Range (Non-drifted Clients)\",\n",
    ")\n",
    "\n",
    "# Extract the accuracy values from the list of tuples\n",
    "drifted_client_avg_accuracies = [x[0] for x in drifted_client_avg]\n",
    "non_drifted_client_avg_accuracies = [x[0] for x in non_drifted_client_avg]\n",
    "\n",
    "# Plot the average accuracy of the clients against the number of rounds\n",
    "plt.plot(drifted_client_avg_accuracies, label='Average Drifted Client Accuracy', color=\"orange\" )\n",
    "plt.plot(non_drifted_client_avg_accuracies, label='Average Non-drifted Client Accuracy', color=\"blue\")\n",
    "\n",
    "# plt.show()\n",
    "y_label = 'Avg. Accuracy'\n",
    "file_name = 'avg_cl_accuracy_with_std_dev_vs_rounds'"
   ]
  },
  {
   "cell_type": "code",
   "execution_count": 19,
   "id": "ea9e78c2-ff23-4a6f-840a-feec23822d8e",
   "metadata": {},
   "outputs": [],
   "source": [
    "import matplotlib.pyplot as plt\n",
    "import numpy as np\n",
    "\n",
    "####################################\n",
    "# LOSS\n",
    "####################################\n",
    "#------------\n",
    "# DRIFTED\n",
    "#------------\n",
    "# List to store the loss and accuracy values of all clients across all rounds\n",
    "drifted_client_losses = []\n",
    "non_drifted_client_losses = []\n",
    "\n",
    "# Indicate the indices of the loss value and accuracy value in the tuple\n",
    "LOSS_INDEX = 0\n",
    "\n",
    "# Get the total number of clients to iterate\n",
    "num_clients = len(drifted_client[0])\n",
    "\n",
    "# Collect losses for each client across all rounds. Note: Here client_id = index of the client in the list\n",
    "for client_id in range(num_clients):\n",
    "    client_losses = []\n",
    "    for round_index in range(len(drifted_client)):\n",
    "        client_losses.append(drifted_client[round_index][client_id][LOSS_INDEX])\n",
    "    drifted_client_losses.append(client_losses)\n",
    "    \n",
    "# # Plot the loss of each client against the number of rounds\n",
    "# plt.figure()  # Create a new figure for loss\n",
    "\n",
    "# Transpose to get losses and accuracies for all clients at each round\n",
    "drifted_client_losses_transposed = np.array(drifted_client_losses).T\n",
    "\n",
    "# Calculate the minimum and maximum losses across clients for each round\n",
    "loss_min = drifted_client_losses_transposed.min(axis=1)\n",
    "loss_max = drifted_client_losses_transposed.max(axis=1)\n",
    "\n",
    "# Fill the area between the minimum and maximum loss values\n",
    "plt.fill_between(\n",
    "    range(len(loss_min)),\n",
    "    loss_min,\n",
    "    loss_max,\n",
    "    color=\"orange\",\n",
    "    alpha=0.2,\n",
    "    label=\"Loss Range (Drifted Clients)\",\n",
    ")\n",
    "\n",
    "#------------\n",
    "# NON-DRIFTED\n",
    "#------------\n",
    "# List to store the loss and accuracy values of all clients across all rounds\n",
    "non_drifted_client_losses = []\n",
    "\n",
    "# Get the total number of clients to iterate\n",
    "num_clients = len(non_drifted_client[0])\n",
    "\n",
    "for client_id in range(num_clients):\n",
    "    client_losses = []\n",
    "    for round_index in range(len(non_drifted_client)):\n",
    "        client_losses.append(non_drifted_client[round_index][client_id][LOSS_INDEX])\n",
    "    non_drifted_client_losses.append(client_losses)\n",
    "\n",
    "# Transpose to get losses and accuracies for all clients at each round\n",
    "non_drifted_client_losses_transposed = np.array(non_drifted_client_losses).T\n",
    "\n",
    "# Calculate the minimum and maximum losses across clients for each round\n",
    "loss_min = non_drifted_client_losses_transposed.min(axis=1)\n",
    "loss_max = non_drifted_client_losses_transposed.max(axis=1)\n",
    "\n",
    "# Fill the area between the minimum and maximum loss values\n",
    "plt.fill_between(\n",
    "    range(len(loss_min)),\n",
    "    loss_min,\n",
    "    loss_max,\n",
    "    color=\"blue\",\n",
    "    alpha=0.2,\n",
    "    label=\"Loss Range (Non-drifted Clients)\",\n",
    ")\n",
    "\n",
    "# Extract the loss and accuracy values from the list of tuples\n",
    "drifted_client_avg_losses = [x[1] for x in drifted_client_avg]\n",
    "non_drifted_client_avg_losses = [x[1] for x in non_drifted_client_avg]\n",
    "\n",
    "# Plot the average loss of the clients against the number of rounds\n",
    "plt.plot(drifted_client_avg_losses, label='Average Drifted Client Loss', color='orange')\n",
    "plt.plot(non_drifted_client_avg_losses, label='Average Non-drifted Client Loss', color='blue')\n",
    "\n",
    "# plt.show()\n",
    "y_label = 'Avg. Loss'\n",
    "file_name = 'avg_cl_loss_with_std_dev_vs_rounds'"
   ]
  },
  {
   "cell_type": "code",
   "execution_count": null,
   "id": "74308960-6964-41ba-99c8-308f198583c8",
   "metadata": {},
   "outputs": [],
   "source": [
    "    \n",
    "# Plot the loss of each client against the number of rounds\n",
    "plt.figure()  # Create a new figure for loss"
   ]
  },
  {
   "cell_type": "markdown",
   "id": "6bccef48-43ab-4a8b-a132-a58b4d1dcd80",
   "metadata": {},
   "source": [
    "### Save plots"
   ]
  },
  {
   "cell_type": "code",
   "execution_count": null,
   "id": "5fdd53e0-a097-4d5d-8e94-36f5c34ab54e",
   "metadata": {},
   "outputs": [],
   "source": [
    "from plots.plotting import configure_and_save_plot\n",
    "import constants"
   ]
  },
  {
   "cell_type": "code",
   "execution_count": 39,
   "id": "b84d3fd9-0da2-450f-8ce2-c45ca9798773",
   "metadata": {},
   "outputs": [],
   "source": [
    "y_label = 'Avg. Accuracy'\n",
    "file_name = 'downloadfromroot_treegrows'\n",
    "x_label = 'Rounds'\n",
    "configure_and_save_plot(plt, x_label, y_label,_,constants.Paths.PLOT_SAVE_PATH + file_name)"
   ]
  },
  {
   "cell_type": "code",
   "execution_count": null,
   "id": "0d465fc1-9559-421b-8616-61ceaa2d02a6",
   "metadata": {},
   "outputs": [],
   "source": []
  }
 ],
 "metadata": {
  "kernelspec": {
   "display_name": "Python 3 (ipykernel)",
   "language": "python",
   "name": "python3"
  },
  "language_info": {
   "codemirror_mode": {
    "name": "ipython",
    "version": 3
   },
   "file_extension": ".py",
   "mimetype": "text/x-python",
   "name": "python",
   "nbconvert_exporter": "python",
   "pygments_lexer": "ipython3",
   "version": "3.10.0"
  }
 },
 "nbformat": 4,
 "nbformat_minor": 5
}
